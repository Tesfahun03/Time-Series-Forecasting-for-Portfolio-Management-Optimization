{
 "cells": [
  {
   "cell_type": "markdown",
   "metadata": {},
   "source": [
    "Markdown\n",
    "Task 2: Develop Time Series Forecasting Models\n",
    "\n",
    "This notebook builds and evaluates forecasting models (ARIMA, SARIMA, LSTM) to predict Tesla (TSLA) stock prices. We'll:\n",
    "- Load and preprocess TSLA data from Task 1.\n",
    "- Split data into train/test sets.\n",
    "- Train and evaluate each model.\n",
    "- Visualize forecasts.\n",
    "\n",
    "Note: LSTM benefits from GPU for faster training but can run on CPU for this task."
   ]
  },
  {
   "cell_type": "code",
   "execution_count": 1,
   "metadata": {},
   "outputs": [],
   "source": [
    "import os, sys\n",
    "sys.path.append(os.path.abspath('..'))\n",
    "from src.data_loader import DataLoader\n",
    "from src.data_preprocessor import DataPreprocessor\n",
    "from src.forecaster import Forecaster\n",
    "import matplotlib.pyplot as plt\n"
   ]
  },
  {
   "cell_type": "code",
   "execution_count": 2,
   "metadata": {},
   "outputs": [],
   "source": [
    "%load_ext autoreload\n",
    "%autoreload 2"
   ]
  },
  {
   "cell_type": "code",
   "execution_count": 5,
   "metadata": {},
   "outputs": [
    {
     "name": "stderr",
     "output_type": "stream",
     "text": [
      "[*********************100%***********************]  1 of 1 completed\n"
     ]
    }
   ],
   "source": [
    "# Load TSLA data\n",
    "loader = DataLoader(['TSLA'])\n",
    "raw_data = loader.load_data()\n",
    "preprocessor = DataPreprocessor(raw_data)\n",
    "cleaned_data = preprocessor.clean_data()\n",
    "\n",
    "# For single ticker, no 'Ticker' column, use cleaned_data directly\n",
    "tsla_data = cleaned_data\n",
    "\n",
    "# Initialize Forecaster with ticker\n",
    "forecaster = Forecaster(tsla_data, ticker='TSLA', test_size=0.2)"
   ]
  },
  {
   "cell_type": "markdown",
   "metadata": {},
   "source": [
    "Step 1: Initialize Forecaster\n",
    "Split TSLA closing prices into training (80%) and testing (20%) sets."
   ]
  },
  {
   "cell_type": "code",
   "execution_count": 6,
   "metadata": {},
   "outputs": [],
   "source": [
    "# Initialize Forecaster with ticker\n",
    "forecaster = Forecaster(tsla_data, ticker='TSLA', test_size=0.2)"
   ]
  },
  {
   "cell_type": "markdown",
   "metadata": {},
   "source": [
    "## Step 2: ARIMA Model\n",
    "Train and forecast with ARIMA, optimizing parameters using auto_arima."
   ]
  },
  {
   "cell_type": "code",
   "execution_count": 7,
   "metadata": {},
   "outputs": [
    {
     "name": "stderr",
     "output_type": "stream",
     "text": [
      "c:\\Users\\Temp\\Desktop\\KAI-Projects\\Time-Series-Forecasting-for-Portfolio-Management-Optimization\\.venv\\lib\\site-packages\\sklearn\\utils\\deprecation.py:151: FutureWarning: 'force_all_finite' was renamed to 'ensure_all_finite' in 1.6 and will be removed in 1.8.\n",
      "  warnings.warn(\n",
      "c:\\Users\\Temp\\Desktop\\KAI-Projects\\Time-Series-Forecasting-for-Portfolio-Management-Optimization\\.venv\\lib\\site-packages\\sklearn\\utils\\deprecation.py:151: FutureWarning: 'force_all_finite' was renamed to 'ensure_all_finite' in 1.6 and will be removed in 1.8.\n",
      "  warnings.warn(\n",
      "c:\\Users\\Temp\\Desktop\\KAI-Projects\\Time-Series-Forecasting-for-Portfolio-Management-Optimization\\.venv\\lib\\site-packages\\sklearn\\utils\\deprecation.py:151: FutureWarning: 'force_all_finite' was renamed to 'ensure_all_finite' in 1.6 and will be removed in 1.8.\n",
      "  warnings.warn(\n",
      "c:\\Users\\Temp\\Desktop\\KAI-Projects\\Time-Series-Forecasting-for-Portfolio-Management-Optimization\\.venv\\lib\\site-packages\\sklearn\\utils\\deprecation.py:151: FutureWarning: 'force_all_finite' was renamed to 'ensure_all_finite' in 1.6 and will be removed in 1.8.\n",
      "  warnings.warn(\n",
      "c:\\Users\\Temp\\Desktop\\KAI-Projects\\Time-Series-Forecasting-for-Portfolio-Management-Optimization\\.venv\\lib\\site-packages\\sklearn\\utils\\deprecation.py:151: FutureWarning: 'force_all_finite' was renamed to 'ensure_all_finite' in 1.6 and will be removed in 1.8.\n",
      "  warnings.warn(\n",
      "c:\\Users\\Temp\\Desktop\\KAI-Projects\\Time-Series-Forecasting-for-Portfolio-Management-Optimization\\.venv\\lib\\site-packages\\sklearn\\utils\\deprecation.py:151: FutureWarning: 'force_all_finite' was renamed to 'ensure_all_finite' in 1.6 and will be removed in 1.8.\n",
      "  warnings.warn(\n"
     ]
    },
    {
     "name": "stdout",
     "output_type": "stream",
     "text": [
      "ARIMA Metrics: {'MAE': 89.90958562546228, 'RMSE': 111.07844416791498, 'MAPE': nan}\n"
     ]
    }
   ],
   "source": [
    "# ARIMA forecast\n",
    "arima_forecast, arima_metrics = forecaster.forecast_arima(optimize=True)\n",
    "print(\"ARIMA Metrics:\", arima_metrics)"
   ]
  },
  {
   "cell_type": "code",
   "execution_count": 8,
   "metadata": {},
   "outputs": [],
   "source": [
    "# Plot\n",
    "plt.figure(figsize=(10, 6))\n",
    "plt.plot(forecaster.train, label='Train')\n",
    "plt.plot(forecaster.test, label='Test')\n",
    "plt.plot(arima_forecast, label='ARIMA Forecast')\n",
    "plt.legend()\n",
    "plt.title('ARIMA Forecast for TSLA')\n",
    "plt.savefig('../notebooks/arima_forecast.png')\n",
    "plt.close()"
   ]
  },
  {
   "cell_type": "markdown",
   "metadata": {},
   "source": [
    "## Step 3: SARIMA Model\n",
    "Train and forecast with SARIMA, considering annual seasonality (252 days)."
   ]
  },
  {
   "cell_type": "code",
   "execution_count": null,
   "metadata": {},
   "outputs": [],
   "source": [
    "# SARIMA forecast\n",
    "sarima_forecast, sarima_metrics = forecaster.forecast_sarima(optimize=True)\n",
    "print(\"SARIMA Metrics:\", sarima_metrics)"
   ]
  },
  {
   "cell_type": "code",
   "execution_count": null,
   "metadata": {},
   "outputs": [],
   "source": [
    "# Plot\n",
    "plt.figure(figsize=(10, 6))\n",
    "plt.plot(forecaster.train, label='Train')\n",
    "plt.plot(forecaster.test, label='Test')\n",
    "plt.plot(sarima_forecast, label='SARIMA Forecast')\n",
    "plt.legend()\n",
    "plt.title('SARIMA Forecast for TSLA')\n",
    "plt.savefig('../notebooks/sarima_forecast.png')\n",
    "plt.close()"
   ]
  },
  {
   "cell_type": "code",
   "execution_count": null,
   "metadata": {},
   "outputs": [],
   "source": []
  },
  {
   "cell_type": "code",
   "execution_count": null,
   "metadata": {},
   "outputs": [],
   "source": []
  },
  {
   "cell_type": "code",
   "execution_count": null,
   "metadata": {},
   "outputs": [],
   "source": []
  }
 ],
 "metadata": {
  "kernelspec": {
   "display_name": ".venv",
   "language": "python",
   "name": "python3"
  },
  "language_info": {
   "codemirror_mode": {
    "name": "ipython",
    "version": 3
   },
   "file_extension": ".py",
   "mimetype": "text/x-python",
   "name": "python",
   "nbconvert_exporter": "python",
   "pygments_lexer": "ipython3",
   "version": "3.10.10"
  }
 },
 "nbformat": 4,
 "nbformat_minor": 2
}
